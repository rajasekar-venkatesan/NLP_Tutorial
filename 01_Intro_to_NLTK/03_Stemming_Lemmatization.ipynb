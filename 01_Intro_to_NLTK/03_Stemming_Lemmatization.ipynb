{
 "cells": [
  {
   "cell_type": "code",
   "execution_count": 1,
   "metadata": {},
   "outputs": [],
   "source": [
    "#am, are, is.... be\n",
    "#cat, cats, cat's, cats'...cat\n",
    "#the girl's pants are different sizes...the girl pant be differ size"
   ]
  },
  {
   "cell_type": "code",
   "execution_count": 2,
   "metadata": {},
   "outputs": [],
   "source": [
    "import nltk\n",
    "from nltk.tokenize import word_tokenize"
   ]
  },
  {
   "cell_type": "code",
   "execution_count": 3,
   "metadata": {},
   "outputs": [],
   "source": [
    "raw = \"\"\"Call me Ishmael. Some years ago never mind how long precisely having little or no money in my purse, and nothing particular to interest me on shore, I thought I would sail about a little and see the watery part of the world\"\"\""
   ]
  },
  {
   "cell_type": "code",
   "execution_count": 4,
   "metadata": {},
   "outputs": [],
   "source": [
    "tokens = nltk.word_tokenize(raw)"
   ]
  },
  {
   "cell_type": "code",
   "execution_count": 5,
   "metadata": {},
   "outputs": [],
   "source": [
    "Porter = nltk.PorterStemmer()\n",
    "Lancaster = nltk.LancasterStemmer()"
   ]
  },
  {
   "cell_type": "code",
   "execution_count": 7,
   "metadata": {},
   "outputs": [
    {
     "data": {
      "text/plain": [
       "[('call', 'cal'),\n",
       " ('me', 'me'),\n",
       " ('ishmael', 'ishmael'),\n",
       " ('.', '.'),\n",
       " ('some', 'som'),\n",
       " ('year', 'year'),\n",
       " ('ago', 'ago'),\n",
       " ('never', 'nev'),\n",
       " ('mind', 'mind'),\n",
       " ('how', 'how'),\n",
       " ('long', 'long'),\n",
       " ('precis', 'prec'),\n",
       " ('have', 'hav'),\n",
       " ('littl', 'littl'),\n",
       " ('or', 'or'),\n",
       " ('no', 'no'),\n",
       " ('money', 'money'),\n",
       " ('in', 'in'),\n",
       " ('my', 'my'),\n",
       " ('purs', 'purs'),\n",
       " (',', ','),\n",
       " ('and', 'and'),\n",
       " ('noth', 'noth'),\n",
       " ('particular', 'particul'),\n",
       " ('to', 'to'),\n",
       " ('interest', 'interest'),\n",
       " ('me', 'me'),\n",
       " ('on', 'on'),\n",
       " ('shore', 'shor'),\n",
       " (',', ','),\n",
       " ('I', 'i'),\n",
       " ('thought', 'thought'),\n",
       " ('I', 'i'),\n",
       " ('would', 'would'),\n",
       " ('sail', 'sail'),\n",
       " ('about', 'about'),\n",
       " ('a', 'a'),\n",
       " ('littl', 'littl'),\n",
       " ('and', 'and'),\n",
       " ('see', 'see'),\n",
       " ('the', 'the'),\n",
       " ('wateri', 'watery'),\n",
       " ('part', 'part'),\n",
       " ('of', 'of'),\n",
       " ('the', 'the'),\n",
       " ('world', 'world')]"
      ]
     },
     "execution_count": 7,
     "metadata": {},
     "output_type": "execute_result"
    }
   ],
   "source": [
    "list(zip([Porter.stem(t) for t in tokens], [Lancaster.stem(t) for t in tokens]))"
   ]
  },
  {
   "cell_type": "code",
   "execution_count": 8,
   "metadata": {},
   "outputs": [],
   "source": [
    "tokens = nltk.word_tokenize(raw)"
   ]
  },
  {
   "cell_type": "code",
   "execution_count": 9,
   "metadata": {},
   "outputs": [],
   "source": [
    "wnl = nltk.WordNetLemmatizer()"
   ]
  },
  {
   "cell_type": "code",
   "execution_count": 10,
   "metadata": {},
   "outputs": [
    {
     "data": {
      "text/plain": [
       "['Call',\n",
       " 'me',\n",
       " 'Ishmael',\n",
       " '.',\n",
       " 'Some',\n",
       " 'year',\n",
       " 'ago',\n",
       " 'never',\n",
       " 'mind',\n",
       " 'how',\n",
       " 'long',\n",
       " 'precisely',\n",
       " 'having',\n",
       " 'little',\n",
       " 'or',\n",
       " 'no',\n",
       " 'money',\n",
       " 'in',\n",
       " 'my',\n",
       " 'purse',\n",
       " ',',\n",
       " 'and',\n",
       " 'nothing',\n",
       " 'particular',\n",
       " 'to',\n",
       " 'interest',\n",
       " 'me',\n",
       " 'on',\n",
       " 'shore',\n",
       " ',',\n",
       " 'I',\n",
       " 'thought',\n",
       " 'I',\n",
       " 'would',\n",
       " 'sail',\n",
       " 'about',\n",
       " 'a',\n",
       " 'little',\n",
       " 'and',\n",
       " 'see',\n",
       " 'the',\n",
       " 'watery',\n",
       " 'part',\n",
       " 'of',\n",
       " 'the',\n",
       " 'world']"
      ]
     },
     "execution_count": 10,
     "metadata": {},
     "output_type": "execute_result"
    }
   ],
   "source": [
    "[wnl.lemmatize(t) for t in tokens]"
   ]
  },
  {
   "cell_type": "code",
   "execution_count": null,
   "metadata": {},
   "outputs": [],
   "source": []
  }
 ],
 "metadata": {
  "kernelspec": {
   "display_name": "Python 3",
   "language": "python",
   "name": "python3"
  },
  "language_info": {
   "codemirror_mode": {
    "name": "ipython",
    "version": 3
   },
   "file_extension": ".py",
   "mimetype": "text/x-python",
   "name": "python",
   "nbconvert_exporter": "python",
   "pygments_lexer": "ipython3",
   "version": "3.6.5"
  }
 },
 "nbformat": 4,
 "nbformat_minor": 2
}
